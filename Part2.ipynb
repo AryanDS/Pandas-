{
 "cells": [
  {
   "cell_type": "markdown",
   "id": "a3b9a8a2-3606-4c36-adb4-c79a4a9416c2",
   "metadata": {},
   "source": [
    "how to handle missing data in pandas using fillna, interpolate and dropna methods. You can fill missing values using a value or list of values or use one of the interpolation methods. "
   ]
  },
  {
   "cell_type": "code",
   "execution_count": 1,
   "id": "a37425f2-d409-4c12-b1aa-d1e299981417",
   "metadata": {},
   "outputs": [],
   "source": [
    "import pandas as pd"
   ]
  },
  {
   "cell_type": "code",
   "execution_count": 2,
   "id": "484aa148-e318-4a63-8399-ca7af2df56c6",
   "metadata": {},
   "outputs": [
    {
     "name": "stdout",
     "output_type": "stream",
     "text": [
      "Collecting pandas\n",
      "  Using cached pandas-1.4.1-cp39-cp39-macosx_11_0_arm64.whl (10.5 MB)\n",
      "Requirement already satisfied: python-dateutil>=2.8.1 in /Users/aryansaini/Documents/Virtual Environment/common_venv/lib/python3.9/site-packages (from pandas) (2.8.2)\n",
      "Collecting numpy>=1.20.0\n",
      "  Using cached numpy-1.22.3-cp39-cp39-macosx_11_0_arm64.whl (12.8 MB)\n",
      "Requirement already satisfied: pytz>=2020.1 in /Users/aryansaini/Documents/Virtual Environment/common_venv/lib/python3.9/site-packages (from pandas) (2022.1)\n",
      "Requirement already satisfied: six>=1.5 in /Users/aryansaini/Documents/Virtual Environment/common_venv/lib/python3.9/site-packages (from python-dateutil>=2.8.1->pandas) (1.16.0)\n",
      "Installing collected packages: numpy, pandas\n",
      "Successfully installed numpy-1.22.3 pandas-1.4.1\n",
      "\u001b[33mWARNING: You are using pip version 21.3.1; however, version 22.0.4 is available.\n",
      "You should consider upgrading via the '/Users/aryansaini/Documents/Virtual Environment/common_venv/bin/python3.9 -m pip install --upgrade pip' command.\u001b[0m\n",
      "Note: you may need to restart the kernel to use updated packages.\n"
     ]
    }
   ],
   "source": [
    "pip install pandas\n"
   ]
  },
  {
   "cell_type": "code",
   "execution_count": null,
   "id": "80c5068e-6d3f-4bee-84a0-909ced889012",
   "metadata": {},
   "outputs": [],
   "source": []
  },
  {
   "cell_type": "code",
   "execution_count": null,
   "id": "1a61e899-889e-408e-a03d-18383f7b0e64",
   "metadata": {},
   "outputs": [],
   "source": []
  },
  {
   "cell_type": "code",
   "execution_count": null,
   "id": "c144b996-a4dc-4801-8cf1-f8e27d101ded",
   "metadata": {},
   "outputs": [],
   "source": []
  },
  {
   "cell_type": "code",
   "execution_count": null,
   "id": "e08352cc-27c4-4767-bf58-f44943361c2b",
   "metadata": {},
   "outputs": [],
   "source": []
  },
  {
   "cell_type": "code",
   "execution_count": null,
   "id": "08997e3b-692d-4cf9-88d5-2c7cef36e9a8",
   "metadata": {},
   "outputs": [],
   "source": []
  },
  {
   "cell_type": "code",
   "execution_count": null,
   "id": "d11a1759-9cd1-434d-bfde-9a5250c3362f",
   "metadata": {},
   "outputs": [],
   "source": []
  },
  {
   "cell_type": "code",
   "execution_count": null,
   "id": "21d7a1c6-7a66-4202-b904-4dfe7821d52d",
   "metadata": {},
   "outputs": [],
   "source": []
  }
 ],
 "metadata": {
  "kernelspec": {
   "display_name": "Python 3 (ipykernel)",
   "language": "python",
   "name": "python3"
  },
  "language_info": {
   "codemirror_mode": {
    "name": "ipython",
    "version": 3
   },
   "file_extension": ".py",
   "mimetype": "text/x-python",
   "name": "python",
   "nbconvert_exporter": "python",
   "pygments_lexer": "ipython3",
   "version": "3.9.10"
  }
 },
 "nbformat": 4,
 "nbformat_minor": 5
}
